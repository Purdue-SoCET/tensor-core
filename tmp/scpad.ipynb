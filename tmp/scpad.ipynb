{
 "cells": [
  {
   "cell_type": "code",
   "execution_count": 1,
   "metadata": {},
   "outputs": [
    {
     "name": "stdout",
     "output_type": "stream",
     "text": [
      "  00  ||   01  ||   02  ||   03 \n",
      "  04  ||   05  ||   06  ||   07 \n",
      "  08  ||   09  ||   10  ||   11 \n",
      "  12  ||   13  ||   14  ||   15 \n",
      "  16  ||   17  ||   18  ||   19 \n",
      "  20  ||   21  ||   22  ||   23 \n",
      "  24  ||   25  ||   26  ||   27 \n",
      "  28  ||   29  ||   30  ||   31 \n",
      "  32  ||   33  ||   34  ||   35 \n",
      "  36  ||   37  ||   38  ||   39 \n",
      "  40  ||   41  ||   42  ||   43 \n",
      "  44  ||   45  ||   46  ||   47 \n",
      "  48  ||   49  ||   50  ||   51 \n",
      "  52  ||   53  ||   54  ||   55 \n",
      "  56  ||   57  ||   58  ||   59 \n",
      "  60  ||   61  ||   62  ||   63 \n",
      "  64  ||   65  ||   66  ||   67 \n",
      "  68  ||   69  ||   70  ||   71 \n",
      "  72  ||   73  ||   74  ||   75 \n",
      "  76  ||   77  ||   78  ||   79 \n",
      "  80  ||   81  ||   82  ||   83 \n",
      "  84  ||   85  ||   86  ||   87 \n",
      "  88  ||   89  ||   90  ||   91 \n",
      "  92  ||   93  ||   94  ||   95 \n",
      "  96  ||   97  ||   98  ||   99 \n",
      " 100  ||  101  ||  102  ||  103 \n",
      " 104  ||  105  ||  106  ||  107 \n",
      " 108  ||  109  ||  110  ||  111 \n",
      " 112  ||  113  ||  114  ||  115 \n",
      " 116  ||  117  ||  118  ||  119 \n",
      " 120  ||  121  ||  122  ||  123 \n",
      " 124  ||  125  ||  126  ||  127 \n",
      " 128  ||  129  ||  130  ||  131 \n",
      " 132  ||  133  ||  134  ||  135 \n",
      " 136  ||  137  ||  138  ||  139 \n",
      " 140  ||  141  ||  142  ||  143 \n",
      " 144  ||  145  ||  146  ||  147 \n",
      " 148  ||  149  ||  150  ||  151 \n",
      " 152  ||  153  ||  154  ||  155 \n",
      " 156  ||  157  ||  158  ||  159 \n",
      " 160  ||  161  ||  162  ||  163 \n",
      " 164  ||  165  ||  166  ||  167 \n",
      " 168  ||  169  ||  170  ||  171 \n",
      " 172  ||  173  ||  174  ||  175 \n",
      " 176  ||  177  ||  178  ||  179 \n",
      " 180  ||  181  ||  182  ||  183 \n",
      " 184  ||  185  ||  186  ||  187 \n",
      " 188  ||  189  ||  190  ||  191 \n",
      " 192  ||  193  ||  194  ||  195 \n",
      " 196  ||  197  ||  198  ||  199 \n",
      " 200  ||  201  ||  202  ||  203 \n",
      " 204  ||  205  ||  206  ||  207 \n",
      " 208  ||  209  ||  210  ||  211 \n",
      " 212  ||  213  ||  214  ||  215 \n",
      " 216  ||  217  ||  218  ||  219 \n",
      " 220  ||  221  ||  222  ||  223 \n",
      " 224  ||  225  ||  226  ||  227 \n",
      " 228  ||  229  ||  230  ||  231 \n",
      " 232  ||  233  ||  234  ||  235 \n",
      " 236  ||  237  ||  238  ||  239 \n",
      " 240  ||  241  ||  242  ||  243 \n",
      " 244  ||  245  ||  246  ||  247 \n",
      " 248  ||  249  ||  250  ||  251 \n",
      " 252  ||  253  ||  254  ||  255 \n",
      " 256  ||  257  ||  258  ||  259 \n",
      " 260  ||  261  ||  262  ||  263 \n",
      " 264  ||  265  ||  266  ||  267 \n",
      " 268  ||  269  ||  270  ||  271 \n",
      " 272  ||  273  ||  274  ||  275 \n",
      " 276  ||  277  ||  278  ||  279 \n",
      " 280  ||  281  ||  282  ||  283 \n",
      " 284  ||  285  ||  286  ||  287 \n",
      " 288  ||  289  ||  290  ||  291 \n",
      " 292  ||  293  ||  294  ||  295 \n",
      " 296  ||  297  ||  298  ||  299 \n"
     ]
    }
   ],
   "source": [
    "import numpy as np\n",
    "\n",
    "def simulate_tensor_in_scpad(tensor, num_banks, rows, cols):\n",
    "    flat_tensor = tensor.flatten()\n",
    "    banks = [[] for _ in range(num_banks)]\n",
    "    \n",
    "    # Distribute each flattened tensor element to a bank using modulo arithmetic,\n",
    "    # but assign a name based on its row index within the bank and the bank index.\n",
    "    for idx, _ in enumerate(flat_tensor):\n",
    "        bank_idx = idx % num_banks\n",
    "        banks[bank_idx].append(f\"{idx // cols}{idx % cols}\")\n",
    "    \n",
    "    return banks\n",
    "\n",
    "\n",
    "def print_scpad_horizontal(banks):\n",
    "    num_rows = min(len(bank) for bank in banks)\n",
    "    for row in range(num_rows):\n",
    "        # For each bank, extract the element at the current row.\n",
    "        row_values = [f\"{banks[bank_idx][row]}\".center(5) for bank_idx in range(len(banks))]\n",
    "        print(\" || \".join(row_values))\n",
    "\n",
    "if __name__ == '__main__':\n",
    "    batch, height, width, channels = 1, 10, 10, 3\n",
    "    tensor = np.arange(batch * height * width * channels).reshape((batch, height, width, channels))\n",
    "    \n",
    "    num_banks = 4\n",
    "    \n",
    "    banks = simulate_tensor_in_scpad(tensor, num_banks, height, width)\n",
    "    \n",
    "    print_scpad_horizontal(banks)"
   ]
  },
  {
   "cell_type": "code",
   "execution_count": 15,
   "metadata": {},
   "outputs": [],
   "source": [
    "# row, col\n",
    "\n",
    "row = 0\n",
    "col = 4\n",
    "BASE_ADDR = 0\n",
    "TILE_WIDTH = 4\n",
    "KERNEL_SIZE = 4\n",
    "linear_addr = BASE_ADDR + ((row * TILE_WIDTH) + col)"
   ]
  },
  {
   "cell_type": "code",
   "execution_count": 17,
   "metadata": {},
   "outputs": [],
   "source": [
    "bank = linear_addr % KERNEL_SIZE"
   ]
  },
  {
   "cell_type": "code",
   "execution_count": 18,
   "metadata": {},
   "outputs": [
    {
     "name": "stdout",
     "output_type": "stream",
     "text": [
      "4 0\n"
     ]
    }
   ],
   "source": [
    "print(linear_addr, bank)"
   ]
  },
  {
   "cell_type": "code",
   "execution_count": null,
   "metadata": {},
   "outputs": [],
   "source": []
  }
 ],
 "metadata": {
  "kernelspec": {
   "display_name": "Python 3",
   "language": "python",
   "name": "python3"
  },
  "language_info": {
   "codemirror_mode": {
    "name": "ipython",
    "version": 3
   },
   "file_extension": ".py",
   "mimetype": "text/x-python",
   "name": "python",
   "nbconvert_exporter": "python",
   "pygments_lexer": "ipython3",
   "version": "3.10.12"
  }
 },
 "nbformat": 4,
 "nbformat_minor": 2
}
